{
 "cells": [
  {
   "cell_type": "markdown",
   "metadata": {},
   "source": [
    "#### Web driver\n"
   ]
  },
  {
   "cell_type": "code",
   "execution_count": 5,
   "metadata": {},
   "outputs": [],
   "source": [
    "from selenium import webdriver\n",
    "from selenium.webdriver.chrome.service import Service as ChromeService\n",
    "from selenium.webdriver.chrome.options import Options\n",
    "from webdriver_manager.chrome import ChromeDriverManager\n",
    "\n",
    "\n",
    "class WebDriverHelper:\n",
    "    def __init__(self, headless=True):\n",
    "        self.headless = headless\n",
    "        self.driver = None\n",
    "\n",
    "    def get_driver_options(self):\n",
    "        options = Options()\n",
    "        if self.headless:\n",
    "            options.add_argument(\"--headless\")\n",
    "            options.add_argument(\"--disable-gpu\")\n",
    "            options.add_argument(\"--disable-images\")\n",
    "            options.add_argument(\"--remote-debugging-port=9229\")\n",
    "        return options\n",
    "\n",
    "    def initialize_driver(self):\n",
    "        # options = self.get_driver_options()\n",
    "        service = ChromeService(ChromeDriverManager().install())\n",
    "        self.driver = webdriver.Chrome(service=service)  # , options=options)\n",
    "        return self.driver\n",
    "\n",
    "    def quit_driver(self):\n",
    "        if self.driver:\n",
    "            self.driver.quit()\n",
    "            self.driver = None"
   ]
  },
  {
   "cell_type": "markdown",
   "metadata": {},
   "source": [
    "#### URL Helper\n"
   ]
  },
  {
   "cell_type": "code",
   "execution_count": 6,
   "metadata": {},
   "outputs": [],
   "source": [
    "import re\n",
    "from urllib.parse import urlparse, parse_qs, urlencode, urlunparse\n",
    "\n",
    "\n",
    "class URLConstructorHelper:\n",
    "    @staticmethod\n",
    "    def construct_group_category_url(base_url, target_group, clothing_url):\n",
    "        return f\"{base_url}/{target_group}/kleding/{clothing_url}\"\n",
    "\n",
    "    @staticmethod\n",
    "    def construct_clothing_type_category_url(group_category_url, clothing_type):\n",
    "        modified_url = re.sub(r\"(kleding)\", f\"\\\\1/{clothing_type}\", group_category_url)\n",
    "        return modified_url\n",
    "\n",
    "    @staticmethod\n",
    "    def construct_url_based_on_params(base_url, params):\n",
    "        url_parts = list(urlparse(base_url))\n",
    "        query = parse_qs(url_parts[4])\n",
    "        query.update(params)\n",
    "        url_parts[4] = urlencode(query, doseq=True)\n",
    "        return urlunparse(url_parts)"
   ]
  },
  {
   "cell_type": "markdown",
   "metadata": {},
   "source": [
    "#### Generic Scraper Helper\n"
   ]
  },
  {
   "cell_type": "code",
   "execution_count": 7,
   "metadata": {},
   "outputs": [],
   "source": [
    "import time\n",
    "from bs4 import BeautifulSoup\n",
    "from selenium.webdriver.support.ui import WebDriverWait\n",
    "from selenium.webdriver.support import expected_conditions as EC\n",
    "from selenium.webdriver.common.by import By\n",
    "from selenium.common.exceptions import WebDriverException\n",
    "\n",
    "\n",
    "class GenericScraperHelper:\n",
    "    @staticmethod\n",
    "    def get_soup(driver):\n",
    "        return BeautifulSoup(driver.page_source, \"html.parser\")\n",
    "\n",
    "    @staticmethod\n",
    "    def set_driver_for_page_url(driver, relative_category_url, wait_time=10):\n",
    "        driver.get(relative_category_url)\n",
    "        WebDriverWait(driver, wait_time).until(\n",
    "            EC.presence_of_element_located((By.TAG_NAME, \"body\"))\n",
    "        )\n",
    "\n",
    "    @staticmethod\n",
    "    def load_all_products(driver):\n",
    "        last_height = driver.execute_script(\"return document.body.scrollHeight\")\n",
    "        while True:\n",
    "            driver.execute_script(\"window.scrollTo(0, document.body.scrollHeight);\")\n",
    "            time.sleep(3)\n",
    "            new_height = driver.execute_script(\"return document.body.scrollHeight\")\n",
    "            if new_height == last_height:\n",
    "                break\n",
    "            last_height = new_height"
   ]
  },
  {
   "cell_type": "markdown",
   "metadata": {},
   "source": [
    "#### Guess Scraper\n"
   ]
  },
  {
   "cell_type": "code",
   "execution_count": 8,
   "metadata": {},
   "outputs": [],
   "source": [
    "class GuessScraper:\n",
    "    def __init__(self, BASE_URL, clothing_gender_type, headless=True):\n",
    "        self.BASE_URL = BASE_URL\n",
    "        self.clothing_gender_type = clothing_gender_type\n",
    "        self.driver_helper = WebDriverHelper(headless)\n",
    "        self.driver = self.driver_helper.initialize_driver()\n",
    "        self.CATEGORY_DROPDOWN_CSS_LIST = (\n",
    "            \"div.mb-lg-0.filters-container__item.refinements__item--category \"\n",
    "            \"div.js-collapse.refinements__wrapper.collapse.show div.filters-content \"\n",
    "            \"ul.refinements__attribute-wrapper.values.content.pl-0.m-lg-0 \"\n",
    "            \"li.refinements__attribute\"\n",
    "        )\n",
    "        self.all_clothing_items = []\n",
    "\n",
    "    @staticmethod\n",
    "    def construct_group_category_url(url, target_group, clothing_url):\n",
    "        return f\"{url}/{target_group}/kleding/{clothing_url}\"\n",
    "\n",
    "    @staticmethod\n",
    "    def construct_clothing_type_category_url(group_category_url, clothing_type):\n",
    "        modified_url = re.sub(r\"(kleding)\", f\"\\\\1/{clothing_type}\", group_category_url)\n",
    "        return modified_url\n",
    "\n",
    "    @staticmethod\n",
    "    def construct_url_based_on_params(url, params):\n",
    "        url_parts = list(urlparse(url))\n",
    "        query = parse_qs(url_parts[4])\n",
    "        query.update(params)\n",
    "        url_parts[4] = urlencode(query, doseq=True)\n",
    "        return urlunparse(url_parts)\n",
    "\n",
    "    def click_specific_button(self, button_text):\n",
    "        attempts = 3\n",
    "        for attempt in range(attempts):\n",
    "            try:\n",
    "                button = WebDriverWait(self.driver, 10).until(\n",
    "                    EC.presence_of_element_located(\n",
    "                        (\n",
    "                            By.XPATH,\n",
    "                            f\"//div[contains(@class, 'refinements__item-button') and .//span[text()='{button_text}']]\",\n",
    "                        )\n",
    "                    )\n",
    "                )\n",
    "                self.driver.execute_script(\"arguments[0].scrollIntoView();\", button)\n",
    "                clickable_button = WebDriverWait(self.driver, 10).until(\n",
    "                    EC.element_to_be_clickable(\n",
    "                        (\n",
    "                            By.XPATH,\n",
    "                            f\"//div[contains(@class, 'refinements__item-button') and .//span[text()='{button_text}']]\",\n",
    "                        )\n",
    "                    )\n",
    "                )\n",
    "                self.driver.execute_script(\"arguments[0].click();\", clickable_button)\n",
    "                return\n",
    "            except WebDriverException as e:\n",
    "                print(f\"Attempt {attempt + 1} failed: {e}\")\n",
    "                time.sleep(5)\n",
    "        raise Exception(\"Failed to click the dropdown button after several attempts\")\n",
    "\n",
    "    def extract_clothing_type_titles(self, css_dropdown_list):\n",
    "        titles = []\n",
    "        try:\n",
    "            list_items = self.driver.find_elements(By.CSS_SELECTOR, css_dropdown_list)\n",
    "            for item in list_items:\n",
    "                title = item.get_attribute(\"title\")\n",
    "                if title:\n",
    "                    title = self.convert_to_dash_format(title)\n",
    "                    titles.append(title)\n",
    "        except Exception as e:\n",
    "            print(f\"Exception occurred while extracting titles: {e}\")\n",
    "        return titles\n",
    "\n",
    "    def extract_product_info(self, str_gender):\n",
    "        soup = GenericScraperHelper.get_soup(self.driver)\n",
    "        products = []\n",
    "        try:\n",
    "            description_divs = soup.select(\"div.small-description\")\n",
    "            for grid in description_divs:\n",
    "                product_divs = grid.select(\"div.pdp-link.product-tile__pdp-link\")\n",
    "                for div in product_divs:\n",
    "                    title = self.extract_title_info(div)\n",
    "                    price_container = div.find_next(\"div\", class_=\"product__price\")\n",
    "\n",
    "                    if price_container:\n",
    "                        original_price, sale_price = self.extract_price_info(\n",
    "                            price_container\n",
    "                        )\n",
    "\n",
    "                        product_info = {\n",
    "                            \"title\": title,\n",
    "                            \"original_price\": original_price,\n",
    "                            \"sale_price\": sale_price,\n",
    "                            \"gender\": str_gender,\n",
    "                        }\n",
    "                        products.append(product_info)\n",
    "        except Exception as e:\n",
    "            print(f\"Exception occurred while extracting product information: {e}\")\n",
    "        return products\n",
    "\n",
    "    @staticmethod\n",
    "    def extract_price_info(price_container):\n",
    "\n",
    "        original_price_tag = price_container.find(\n",
    "            \"span\", class_=\"price__strike-through\"\n",
    "        )\n",
    "        if original_price_tag == None:\n",
    "            original_price_tag = price_container.find(\n",
    "                \"span\", class_=\"value price__value\"\n",
    "            )\n",
    "        sale_price_tag = price_container.find(\"span\", class_=\"value price__value--sale\")\n",
    "\n",
    "        sale_price_tag = price_container.find(\"span\", class_=\"value price__value--sale\")\n",
    "\n",
    "        original_price = (\n",
    "            original_price_tag.get_text(strip=True) if original_price_tag else \"\"\n",
    "        )\n",
    "        sale_price = sale_price_tag.get_text(strip=True) if sale_price_tag else \"\"\n",
    "\n",
    "        return original_price, sale_price\n",
    "\n",
    "    @staticmethod\n",
    "    def extract_title_info(product_div):\n",
    "        title_tag = product_div.find(\"a\", class_=\"link product-tile__link js-tile-link\")\n",
    "        return title_tag.get_text(strip=True) if title_tag else \"\"\n",
    "\n",
    "    @staticmethod\n",
    "    def convert_to_dash_format(title):\n",
    "        cleaned_phrase = title.lower().strip()\n",
    "        dash_format = cleaned_phrase.replace(\" \", \"-\").lower()\n",
    "        return dash_format\n",
    "\n",
    "    def create_clothing_links_from_titles(self, url, titles):\n",
    "        clothing_type_urls = []\n",
    "        for title in titles:\n",
    "            clothing_type_urls.append(\n",
    "                self.construct_clothing_type_category_url(url, title)\n",
    "            )\n",
    "        return clothing_type_urls\n",
    "\n",
    "    def scrape(self, clothing_base_urls):\n",
    "        for clothing_url in clothing_base_urls:\n",
    "            relative_clothing_category_url = (\n",
    "                URLConstructorHelper.construct_group_category_url(\n",
    "                    self.BASE_URL, self.clothing_gender_type, clothing_url\n",
    "                )\n",
    "            )\n",
    "            GenericScraperHelper.set_driver_for_page_url(\n",
    "                self.driver, relative_clothing_category_url\n",
    "            )\n",
    "            self.click_specific_button(\"Op categorie\")\n",
    "            time.sleep(2)\n",
    "            titles = self.extract_clothing_type_titles(self.CATEGORY_DROPDOWN_CSS_LIST)\n",
    "            clothing_type_urls = self.create_clothing_links_from_titles(\n",
    "                relative_clothing_category_url, titles\n",
    "            )\n",
    "\n",
    "            self.driver_helper.quit_driver()\n",
    "            for clothing_type_url in clothing_type_urls:\n",
    "                if clothing_type_url == None:\n",
    "                    break\n",
    "                self.driver = self.driver_helper.initialize_driver()\n",
    "                GenericScraperHelper.set_driver_for_page_url(\n",
    "                    self.driver, clothing_type_url\n",
    "                )\n",
    "                GenericScraperHelper.load_all_products(self.driver)\n",
    "                products = self.extract_product_info(\n",
    "                    str_gender=self.clothing_gender_type\n",
    "                )\n",
    "                print(products)\n",
    "                self.all_clothing_items.append(products)\n",
    "                self.driver_helper.quit_driver()\n",
    "\n",
    "        return self.all_clothing_items"
   ]
  },
  {
   "cell_type": "code",
   "execution_count": 9,
   "metadata": {},
   "outputs": [
    {
     "name": "stdout",
     "output_type": "stream",
     "text": [
      "[{'title': 'Strak aansluitende lange sweaterjurk', 'original_price': '160.00 €', 'sale_price': '', 'gender': 'dames'}, {'title': 'Lurex mini-trui-jurk', 'original_price': '160.00 €', 'sale_price': '', 'gender': 'dames'}, {'title': 'Mini-jurk van kant', 'original_price': '130.00 €', 'sale_price': '', 'gender': 'dames'}, {'title': 'Lange asymmetrische jurk', 'original_price': '230.00 €', 'sale_price': '', 'gender': 'dames'}, {'title': 'Lange jurk met kant', 'original_price': '180.00 €', 'sale_price': '', 'gender': 'dames'}, {'title': 'Lange jurk met bloemenprint', 'original_price': '200.00 €', 'sale_price': '', 'gender': 'dames'}, {'title': 'Strak aansluitende mini-jurk met strik op de voorkant', 'original_price': '99.00 €', 'sale_price': '', 'gender': 'dames'}, {'title': 'Mini-jurk van kant', 'original_price': '150.00 €', 'sale_price': '', 'gender': 'dames'}, {'title': 'Jurk met afneembare rok', 'original_price': '200.00 €', 'sale_price': '', 'gender': 'dames'}, {'title': 'Satijnen slipjurk', 'original_price': '140.00 €', 'sale_price': '', 'gender': 'dames'}, {'title': 'Skinny denim jumpsuit', 'original_price': '180.00 €', 'sale_price': '', 'gender': 'dames'}, {'title': 'Lange jurk van gemengde zijde', 'original_price': '220.00 €', 'sale_price': '', 'gender': 'dames'}, {'title': 'Marciano mini-jurk met bloemenprint', 'original_price': '330.00 €', 'sale_price': '', 'gender': 'dames'}, {'title': 'Lange jurk met bloemenprint', 'original_price': '150.00 €', 'sale_price': '', 'gender': 'dames'}, {'title': 'Marciano strak aansluitende midi-jurk met knopen', 'original_price': '280.00 €', 'sale_price': '', 'gender': 'dames'}, {'title': 'Lange jurk met bloemenprint', 'original_price': '220.00 €', 'sale_price': '', 'gender': 'dames'}, {'title': 'Jurk met all-over print', 'original_price': '120.00 €', 'sale_price': '', 'gender': 'dames'}, {'title': 'Skinny denim jumpsuit', 'original_price': '190.00 €', 'sale_price': '', 'gender': 'dames'}, {'title': 'Marciano strak aansluitende midi-sweaterjurk.', 'original_price': '200.00 €', 'sale_price': '', 'gender': 'dames'}, {'title': 'Satijnen slipjurk', 'original_price': '140.00 €', 'sale_price': '', 'gender': 'dames'}, {'title': 'Lange jurk met bloemenprint', 'original_price': '160.00 €', 'sale_price': '', 'gender': 'dames'}, {'title': 'Marciano flare jumpsuit met riem', 'original_price': '280.00 €', 'sale_price': '', 'gender': 'dames'}, {'title': 'Lange jurk met kant', 'original_price': '180.00 €', 'sale_price': '', 'gender': 'dames'}, {'title': 'Mini-jurk met bloemenprint', 'original_price': '180.00 €', 'sale_price': '', 'gender': 'dames'}, {'title': 'Marciano lange jurk zijde', 'original_price': '480.00 €', 'sale_price': '', 'gender': 'dames'}, {'title': 'Skinny denim jumpsuit', 'original_price': '190.00 €', 'sale_price': '', 'gender': 'dames'}, {'title': 'Mini-jurk met bloemen', 'original_price': '120.00 €', 'sale_price': '', 'gender': 'dames'}, {'title': 'Stretchjurk met logo voorkant', 'original_price': '60.00 €', 'sale_price': '', 'gender': 'dames'}, {'title': 'Mini-jurk met all-over print', 'original_price': '130.00 €', 'sale_price': '', 'gender': 'dames'}, {'title': 'Sweaterjurk halflange met polokraag', 'original_price': '110.00 €', 'sale_price': '', 'gender': 'dames'}, {'title': 'Lange jurk met bloemenprint', 'original_price': '200.00 €', 'sale_price': '', 'gender': 'dames'}, {'title': 'Mini-jurk van kant', 'original_price': '130.00 €', 'sale_price': '', 'gender': 'dames'}, {'title': 'Bootcut jeans-jumpsuit', 'original_price': '170.00 €', 'sale_price': '', 'gender': 'dames'}, {'title': 'Marciano halflange jurk met print all-over', 'original_price': '300.00 €', 'sale_price': '', 'gender': 'dames'}, {'title': 'Lange dusterjurk met kant', 'original_price': '190.00 €', 'sale_price': '', 'gender': 'dames'}, {'title': 'Fit & Flare sweaterjurk', 'original_price': '160.00 €', 'sale_price': '', 'gender': 'dames'}, {'title': 'Marciano paisley lurex lange jurk met paisleyprint', 'original_price': '380.00 €', 'sale_price': '', 'gender': 'dames'}, {'title': 'Skinny denim jumpsuit', 'original_price': '190.00 €', 'sale_price': '', 'gender': 'dames'}, {'title': 'Lange jurk van gemengde zijde', 'original_price': '240.00 €', 'sale_price': '', 'gender': 'dames'}, {'title': 'Midi-jurk met plooien', 'original_price': '150.00 €', 'sale_price': '', 'gender': 'dames'}, {'title': 'Lange onderjurk met stippen', 'original_price': '160.00 €', 'sale_price': '', 'gender': 'dames'}, {'title': 'Mini-jurk met bloemenprint', 'original_price': '99.00 €', 'sale_price': '', 'gender': 'dames'}, {'title': 'Marciano lange jurk met bloemenprint', 'original_price': '350.00 €', 'sale_price': '', 'gender': 'dames'}, {'title': 'Mini-jeansjurk bustier', 'original_price': '160.00 €', 'sale_price': '', 'gender': 'dames'}, {'title': 'Mini-jurk van tweed', 'original_price': '160.00 €', 'sale_price': '', 'gender': 'dames'}, {'title': 'Flare jumpsuit van kant', 'original_price': '180.00 €', 'sale_price': '', 'gender': 'dames'}, {'title': 'Marciano bodycon mini-jurk', 'original_price': '230.00 €', 'sale_price': '', 'gender': 'dames'}, {'title': 'Halflange jurk met dierenprint', 'original_price': '99.00 €', 'sale_price': '', 'gender': 'dames'}, {'title': 'Mini-jurk van gemengd linnen', 'original_price': '140.00 €', 'sale_price': '', 'gender': 'dames'}, {'title': 'Marciano mini-jurk van gemengd linnen', 'original_price': '380.00 €', 'sale_price': '', 'gender': 'dames'}, {'title': 'Wijd uitlopende jumpsuit van spijkerstof', 'original_price': '180.00 €', 'sale_price': '', 'gender': 'dames'}, {'title': 'Mini-jurk met bloemenprint', 'original_price': '130.00 €', 'sale_price': '', 'gender': 'dames'}, {'title': 'Jumpsuit met bloemenprint', 'original_price': '150.00 €', 'sale_price': '', 'gender': 'dames'}, {'title': 'Bodycon halflange jurk', 'original_price': '99.00 €', 'sale_price': '', 'gender': 'dames'}, {'title': 'Mini-jurk met bloemenprint', 'original_price': '160.00 €', 'sale_price': '', 'gender': 'dames'}, {'title': 'Marciano fit & flare mini-jurk', 'original_price': '280.00 €', 'sale_price': '', 'gender': 'dames'}, {'title': 'Bodycon lange jurk', 'original_price': '120.00 €', 'sale_price': '', 'gender': 'dames'}, {'title': 'Mini-trui-jurk met knopen', 'original_price': '120.00 €', 'sale_price': '', 'gender': 'dames'}, {'title': 'Marciano lange empirejurk met ketting', 'original_price': '330.00 €', 'sale_price': '', 'gender': 'dames'}, {'title': 'Strak aansluitende mini-spijkerjurk', 'original_price': '140.00 €', 'sale_price': '', 'gender': 'dames'}, {'title': 'Lange jurk met bloemenprint', 'original_price': '160.00 €', 'sale_price': '', 'gender': 'dames'}, {'title': 'Strak aansluitende fluwelen mini-jurk', 'original_price': '130.00 €', 'sale_price': '', 'gender': 'dames'}, {'title': 'Marciano mini-jurk met print all-over', 'original_price': '300.00 €', 'sale_price': '', 'gender': 'dames'}, {'title': 'Marciano lange jurk met cut-out', 'original_price': '350.00 €', 'sale_price': '', 'gender': 'dames'}, {'title': 'Mini-jurk met stippen', 'original_price': '150.00 €', 'sale_price': '', 'gender': 'dames'}, {'title': 'Marciano bodycon halflange jurk met riem', 'original_price': '230.00 €', 'sale_price': '', 'gender': 'dames'}, {'title': 'Marciano mini-jurk met print all-over', 'original_price': '250.00 €', 'sale_price': '', 'gender': 'dames'}, {'title': 'Marciano fit & flare mini-jurk', 'original_price': '250.00 €', 'sale_price': '', 'gender': 'dames'}, {'title': 'Marciano paisley lurex mini-jurk met paisleyprint', 'original_price': '180.00 €', 'sale_price': '', 'gender': 'dames'}, {'title': 'Marciano mini-jurk met print all-over', 'original_price': '230.00 €', 'sale_price': '', 'gender': 'dames'}, {'title': 'Marciano mini-jurk met logoprint', 'original_price': '250.00 €', 'sale_price': '', 'gender': 'dames'}, {'title': 'Bodycon mini-jurk in trui-stof', 'original_price': '110.00 €', 'sale_price': '', 'gender': 'dames'}, {'title': 'Bodycon mini-jurk van gebreide stof', 'original_price': '150.00 €', 'sale_price': '', 'gender': 'dames'}, {'title': 'Geborduurde mini-jurk', 'original_price': '180.00 €', 'sale_price': '', 'gender': 'dames'}, {'title': 'Mini-jurk met all-over print', 'original_price': '130.00 €', 'sale_price': '', 'gender': 'dames'}, {'title': 'Marciano flare jumpsuit met strik aan de voorkant', 'original_price': '280.00 €', 'sale_price': '', 'gender': 'dames'}, {'title': 'Marciano strak aansluitende midi-sweaterjurk.', 'original_price': '180.00 €', 'sale_price': '', 'gender': 'dames'}, {'title': 'Mini-wikkeljurk met ceintuur', 'original_price': '150.00 €', 'sale_price': '', 'gender': 'dames'}, {'title': 'Mini-jurk met polokraag', 'original_price': '80.00 €', 'sale_price': '', 'gender': 'dames'}, {'title': 'Mini-jurk van tweed', 'original_price': '160.00 €', 'sale_price': '', 'gender': 'dames'}, {'title': 'Mini-jurk met G-logo', 'original_price': '130.00 €', 'sale_price': '', 'gender': 'dames'}, {'title': 'Marciano lange jurk met all-over print', 'original_price': '300.00 €', 'sale_price': '', 'gender': 'dames'}, {'title': 'Marciano mini-jurk met geometrische print', 'original_price': '250.00 €', 'sale_price': '', 'gender': 'dames'}, {'title': 'Marciano flare jumpsuit open achterkant', 'original_price': '280.00 €', 'sale_price': '', 'gender': 'dames'}, {'title': 'Marciano jumpsuit logo', 'original_price': '280.00 €', 'sale_price': '', 'gender': 'dames'}, {'title': 'Bodycon mini-jurk van denim', 'original_price': '150.00 €', 'sale_price': '', 'gender': 'dames'}, {'title': 'Fit en flare mini-jurk van gebreide stof', 'original_price': '140.00 €', 'sale_price': '', 'gender': 'dames'}, {'title': 'Marciano mini-jurk met all-over print', 'original_price': '250.00 €', 'sale_price': '', 'gender': 'dames'}, {'title': 'Denim bodycon mini-jurk', 'original_price': '160.00 €', 'sale_price': '', 'gender': 'dames'}, {'title': 'Bodycon mini-jurk in trui-stof', 'original_price': '140.00 €', 'sale_price': '', 'gender': 'dames'}, {'title': 'Mini-jurk met bloemenprint', 'original_price': '150.00 €', 'sale_price': '', 'gender': 'dames'}, {'title': 'Marciano lange jurk print all-over', 'original_price': '350.00 €', 'sale_price': '', 'gender': 'dames'}, {'title': 'Mini-jurk met stippen', 'original_price': '150.00 €', 'sale_price': '', 'gender': 'dames'}, {'title': 'Marciano lange jurk met bloemenprint', 'original_price': '330.00 €', 'sale_price': '', 'gender': 'dames'}, {'title': 'Marciano mini-sweaterjurk', 'original_price': '200.00 €', 'sale_price': '', 'gender': 'dames'}, {'title': 'Mini-jurk met 4G-logoprint', 'original_price': '110.00 €', 'sale_price': '', 'gender': 'dames'}, {'title': 'Marciano lange jurk met bloemenprint', 'original_price': '280.00 €', 'sale_price': '', 'gender': 'dames'}, {'title': 'Mini-jurk met stippen', 'original_price': '150.00 €', 'sale_price': '', 'gender': 'dames'}, {'title': 'Gestreepte mini-trui-jurk', 'original_price': '140.00 €', 'sale_price': '', 'gender': 'dames'}, {'title': 'Bodycon mini-jurk in trui-stof', 'original_price': '99.00 €', 'sale_price': '', 'gender': 'dames'}, {'title': 'Marciano fit and flare mini-jurk met riem', 'original_price': '250.00 €', 'sale_price': '', 'gender': 'dames'}, {'title': 'Marciano bodycon mini-jurk met ketting', 'original_price': '250.00 €', 'sale_price': '', 'gender': 'dames'}, {'title': 'Mini-jurk van tweed', 'original_price': '170.00 €', 'sale_price': '', 'gender': 'dames'}, {'title': 'Midi-jurk met strass-steentjes', 'original_price': '280.00 €', 'sale_price': '', 'gender': 'dames'}, {'title': 'Mini-jurk van linnen', 'original_price': '170.00 €', 'sale_price': '', 'gender': 'dames'}, {'title': 'Mini-wikkeljurk met ceintuur', 'original_price': '150.00 €', 'sale_price': '', 'gender': 'dames'}, {'title': 'Marciano jumpsuit wijde pijpen', 'original_price': '280.00 €', 'sale_price': '', 'gender': 'dames'}, {'title': 'Satijn blousejurk', 'original_price': '130.00 €', 'sale_price': '', 'gender': 'dames'}, {'title': 'Marciano mini-jurk met bloemenprint', 'original_price': '300.00 €', 'sale_price': '', 'gender': 'dames'}, {'title': 'Mini-spijkerjurk met print', 'original_price': '120.00 €', 'sale_price': '', 'gender': 'dames'}, {'title': 'Marciano mini-jurk in truistof', 'original_price': '280.00 €', 'sale_price': '', 'gender': 'dames'}, {'title': 'Lange jurk met kant', 'original_price': '180.00 €', 'sale_price': '', 'gender': 'dames'}, {'title': 'Mini-jurk met bloemenprint', 'original_price': '140.00 €', 'sale_price': '', 'gender': 'dames'}, {'title': 'Marciano midi-jurk met all-over print', 'original_price': '230.00 €', 'sale_price': '', 'gender': 'dames'}, {'title': 'Ribgebreide midi-jurk', 'original_price': '99.00 €', 'sale_price': '', 'gender': 'dames'}, {'title': 'Bodycon mini-jurk in trui-stof', 'original_price': '110.00 €', 'sale_price': '', 'gender': 'dames'}, {'title': 'Marciano interlock midi-jurk', 'original_price': '230.00 €', 'sale_price': '', 'gender': 'dames'}, {'title': 'Marciano strak aansluitende midi-jurk met ruches', 'original_price': '250.00 €', 'sale_price': '', 'gender': 'dames'}, {'title': 'Marciano one-shoulder lange jurk', 'original_price': '330.00 €', 'sale_price': '', 'gender': 'dames'}, {'title': 'Strak aansluitende scuba halflange jurk', 'original_price': '110.00 €', 'sale_price': '', 'gender': 'dames'}, {'title': 'Marciano lange jurk met strass-stenen', 'original_price': '450.00 €', 'sale_price': '', 'gender': 'dames'}, {'title': 'Marciano satijnen lange jurk', 'original_price': '280.00 €', 'sale_price': '', 'gender': 'dames'}, {'title': '4G-logo trui-stof mini-jurk', 'original_price': '140.00 €', 'sale_price': '', 'gender': 'dames'}, {'title': 'Marciano halflange overhemdjurk van satijn', 'original_price': '250.00 €', 'sale_price': '', 'gender': 'dames'}, {'title': 'Marciano mini-jurk tweed', 'original_price': '280.00 €', 'sale_price': '', 'gender': 'dames'}, {'title': 'Geborduurde lange jurk', 'original_price': '190.00 €', 'sale_price': '', 'gender': 'dames'}, {'title': 'Marciano mini-jurk met bloemenprint', 'original_price': '230.00 €', 'sale_price': '', 'gender': 'dames'}, {'title': 'Pluizige halflange trui jurk', 'original_price': '130.00 €', 'sale_price': '', 'gender': 'dames'}, {'title': 'Marciano midi-sweaterjurk', 'original_price': '230.00 €', 'sale_price': '', 'gender': 'dames'}, {'title': 'Gedrapeerde mini-jurk', 'original_price': '99.00 €', 'sale_price': '', 'gender': 'dames'}, {'title': 'Marciano gehaakte mini-jurk', 'original_price': '180.00 €', 'sale_price': '', 'gender': 'dames'}, {'title': 'Ribgebreide mini-jurk', 'original_price': '60.00 €', 'sale_price': '', 'gender': 'dames'}, {'title': 'Strak aansluitende gestreepte mini-jurk', 'original_price': '99.00 €', 'sale_price': '', 'gender': 'dames'}, {'title': 'Marciano lange jurk print all-over', 'original_price': '280.00 €', 'sale_price': '', 'gender': 'dames'}, {'title': 'Marciano strak aansluitende mini-sweaterjurk.', 'original_price': '180.00 €', 'sale_price': '', 'gender': 'dames'}, {'title': 'Bodycon mini-jurk van gebreide stof', 'original_price': '110.00 €', 'sale_price': '', 'gender': 'dames'}, {'title': 'Marciano mini-jurk borduursel', 'original_price': '300.00 €', 'sale_price': '', 'gender': 'dames'}, {'title': 'Marciano lange zijde jurk', 'original_price': '430.00 €', 'sale_price': '', 'gender': 'dames'}, {'title': 'Marciano off-shoulder halflange jurk', 'original_price': '230.00 €', 'sale_price': '', 'gender': 'dames'}, {'title': 'Marciano halflange jurk met bloemenprint', 'original_price': '280.00 €', 'sale_price': '', 'gender': 'dames'}, {'title': 'Satijnen lange jurk', 'original_price': '160.00 €', 'sale_price': '', 'gender': 'dames'}, {'title': 'Marciano midi-jurk met dierenprint', 'original_price': '330.00 €', 'sale_price': '', 'gender': 'dames'}, {'title': 'Marciano mini-jurk van kunstleer', 'original_price': '280.00 €', 'sale_price': '', 'gender': 'dames'}, {'title': 'Lange jurk met dierenprint', 'original_price': '180.00 €', 'sale_price': '', 'gender': 'dames'}, {'title': 'Pluizige halflange jurk in trui-stof', 'original_price': '130.00 €', 'sale_price': '', 'gender': 'dames'}, {'title': 'Jurk in gevlochten trui-stof', 'original_price': '110.00 €', 'sale_price': '', 'gender': 'dames'}, {'title': 'Marciano strak aansluitende midi-jurk', 'original_price': '230.00 €', 'sale_price': '', 'gender': 'dames'}, {'title': 'Marciano mini-jurk logo', 'original_price': '250.00 €', 'sale_price': '', 'gender': 'dames'}, {'title': 'Marciano playsuit met dierenprint', 'original_price': '230.00 €', 'sale_price': '', 'gender': 'dames'}, {'title': 'Pluizige mini-jurk in trui-stof', 'original_price': '130.00 €', 'sale_price': '', 'gender': 'dames'}, {'title': 'Marciano satijnen lange jurk', 'original_price': '300.00 €', 'sale_price': '', 'gender': 'dames'}, {'title': 'Marciano flare jumpsuit met riem', 'original_price': '300.00 €', 'sale_price': '', 'gender': 'dames'}, {'title': 'Flare-jumpsuit met print all-over', 'original_price': '160.00 €', 'sale_price': '', 'gender': 'dames'}, {'title': 'Marciano strak aansluitende mini-jurk', 'original_price': '260.00 €', 'sale_price': '', 'gender': 'dames'}, {'title': 'Strak aansluitende lange jurk', 'original_price': '140.00 €', 'sale_price': '', 'gender': 'dames'}, {'title': 'Marciano mini-jurk met chenille inzetten', 'original_price': '230.00 €', 'sale_price': '', 'gender': 'dames'}, {'title': 'Mini-jurk met bloemenprint', 'original_price': '140.00 €', 'sale_price': '', 'gender': 'dames'}, {'title': 'Marciano zijden lange jurk', 'original_price': '430.00 €', 'sale_price': '', 'gender': 'dames'}, {'title': 'Mini-jurk met print all-over', 'original_price': '130.00 €', 'sale_price': '', 'gender': 'dames'}, {'title': 'Bodycon halflange jurk van gebreide stof', 'original_price': '130.00 €', 'sale_price': '', 'gender': 'dames'}, {'title': 'Marciano bustier mini-jurk', 'original_price': '330.00 €', 'sale_price': '', 'gender': 'dames'}, {'title': 'Flare jumpsuit rib glanzend', 'original_price': '150.00 €', 'sale_price': '', 'gender': 'dames'}, {'title': 'Scuba bodycon jurk', 'original_price': '120.00 €', 'sale_price': '', 'gender': 'dames'}, {'title': 'Denim jumpsuit met skinny pasvorm', 'original_price': '180.00 €', 'sale_price': '', 'gender': 'dames'}, {'title': 'Mini-sweaterjurk met strass-steentjes', 'original_price': '130.00 €', 'sale_price': '', 'gender': 'dames'}, {'title': 'Lange onderjurk met stippen', 'original_price': '160.00 €', 'sale_price': '', 'gender': 'dames'}, {'title': 'Mini-jurk met logo voorkant', 'original_price': '60.00 €', 'sale_price': '', 'gender': 'dames'}, {'title': 'Mini-jurk met dierenprint', 'original_price': '180.00 €', 'sale_price': '', 'gender': 'dames'}, {'title': 'Marciano bodycon halflange jurk van gebreide stof', 'original_price': '180.00 €', 'sale_price': '', 'gender': 'dames'}, {'title': 'Bodycon mini-jurk in trui-stof', 'original_price': '99.00 €', 'sale_price': '', 'gender': 'dames'}, {'title': 'Bodycon halflange jurk van gebreide stof', 'original_price': '130.00 €', 'sale_price': '', 'gender': 'dames'}, {'title': 'Marciano lange jurk met geometrische print', 'original_price': '280.00 €', 'sale_price': '', 'gender': 'dames'}, {'title': 'Mini-jurk in tweed', 'original_price': '170.00 €', 'sale_price': '', 'gender': 'dames'}, {'title': 'Marciano midi-jurk met bloemenprint', 'original_price': '230.00 €', 'sale_price': '', 'gender': 'dames'}, {'title': 'Marciano fit & flare mini-jurk', 'original_price': '250.00 €', 'sale_price': '', 'gender': 'dames'}, {'title': 'Mini-jurk met bloemenprint', 'original_price': '130.00 €', 'sale_price': '', 'gender': 'dames'}, {'title': 'Midi-jurk van kant', 'original_price': '150.00 €', 'sale_price': '', 'gender': 'dames'}, {'title': 'Sweaterjurk met logo in reliëf.', 'original_price': '110.00 €', 'sale_price': '', 'gender': 'dames'}, {'title': 'Mini-jurk met print all-over', 'original_price': '130.00 €', 'sale_price': '', 'gender': 'dames'}, {'title': 'Bodycon mini-jurk van gebreide stof', 'original_price': '120.00 €', 'sale_price': '', 'gender': 'dames'}, {'title': 'Mini-jurk met strass-steentjes', 'original_price': '280.00 €', 'sale_price': '', 'gender': 'dames'}, {'title': 'Pluizige mini-jurk in trui-stof', 'original_price': '130.00 €', 'sale_price': '', 'gender': 'dames'}, {'title': 'Mini-jurk met bloemenprint', 'original_price': '99.00 €', 'sale_price': '', 'gender': 'dames'}, {'title': 'Marciano bodycon mini-jurk echt leer', 'original_price': '580.00 €', 'sale_price': '', 'gender': 'dames'}, {'title': 'Marciano lange jurk met lovertjes.', 'original_price': '400.00 €', 'sale_price': '', 'gender': 'dames'}, {'title': 'Pluizige halflange jurk in trui-stof', 'original_price': '130.00 €', 'sale_price': '', 'gender': 'dames'}, {'title': 'Marciano strak aansluitende lange jurk', 'original_price': '330.00 €', 'sale_price': '', 'gender': 'dames'}, {'title': 'Jurk strasstenen', 'original_price': '280.00 €', 'sale_price': '', 'gender': 'dames'}, {'title': 'Marciano bodycon midi-jurk met gehaakte band', 'original_price': '230.00 €', 'sale_price': '', 'gender': 'dames'}, {'title': 'Marciano strak aansluitende mini-jurk', 'original_price': '280.00 €', 'sale_price': '', 'gender': 'dames'}, {'title': 'Bodycon mini-jurk in trui-stof', 'original_price': '140.00 €', 'sale_price': '', 'gender': 'dames'}, {'title': 'Marciano jumpsuit rechte broekspijp', 'original_price': '300.00 €', 'sale_price': '', 'gender': 'dames'}, {'title': 'Mini-jurk met lovertjes', 'original_price': '140.00 €', 'sale_price': '', 'gender': 'dames'}, {'title': 'Marciano mini-jurk met bloemenprint', 'original_price': '280.00 €', 'sale_price': '', 'gender': 'dames'}, {'title': 'Strak aansluitende mini-sweaterjurk', 'original_price': '110.00 €', 'sale_price': '', 'gender': 'dames'}, {'title': 'Marciano lange jurk met lovertjes.', 'original_price': '350.00 €', 'sale_price': '', 'gender': 'dames'}, {'title': 'Marciano mini-jurk met print all-over', 'original_price': '230.00 €', 'sale_price': '', 'gender': 'dames'}, {'title': 'Marciano halflange jurk logo', 'original_price': '170.00 €', 'sale_price': '', 'gender': 'dames'}, {'title': 'Marciano mini-jurk in truistof', 'original_price': '280.00 €', 'sale_price': '', 'gender': 'dames'}, {'title': 'Marciano mini-blousejurk met riem', 'original_price': '250.00 €', 'sale_price': '', 'gender': 'dames'}, {'title': 'Marciano strak aansluitende lange jurk', 'original_price': '280.00 €', 'sale_price': '', 'gender': 'dames'}]\n",
      "[{'title': 'Strak ribgebreid T-shirt met borduursel', 'original_price': '35.00 €', 'sale_price': '', 'gender': 'dames'}, {'title': 'T-shirt met logo op de voorkant', 'original_price': '55.00 €', 'sale_price': '', 'gender': 'dames'}, {'title': 'T-shirt met logo met stras voorkant', 'original_price': '55.00 €', 'sale_price': '', 'gender': 'dames'}, {'title': 'Stretch t-shirt met driehoek logo strasstenen', 'original_price': '40.00 €', 'sale_price': '', 'gender': 'dames'}, {'title': 'Sangallo-kant t-shirt met logo voorkant', 'original_price': '45.00 €', 'sale_price': '', 'gender': 'dames'}, {'title': 'Stretch T-shirt met bloemenlogo', 'original_price': '45.00 €', 'sale_price': '', 'gender': 'dames'}, {'title': 'T-shirt met driehoeklogo', 'original_price': '50.00 €', 'sale_price': '', 'gender': 'dames'}, {'title': 'T-shirt met bloemlogo', 'original_price': '40.00 €', 'sale_price': '', 'gender': 'dames'}, {'title': 'Stretch T-shirt met logo op de voorkant', 'original_price': '55.00 €', 'sale_price': '', 'gender': 'dames'}, {'title': 'T-shirt met logo met stras voorkant', 'original_price': '55.00 €', 'sale_price': '', 'gender': 'dames'}, {'title': 'Stretch T-shirt met bloemenlogo', 'original_price': '45.00 €', 'sale_price': '', 'gender': 'dames'}, {'title': 'Stretch T-shirt met klein driehoeklogo', 'original_price': '30.00 €', 'sale_price': '', 'gender': 'dames'}, {'title': 'Stretch T-shirt met logo voorkant', 'original_price': '55.00 €', 'sale_price': '', 'gender': 'dames'}, {'title': 'T-shirt met logo voorkant', 'original_price': '35.00 €', 'sale_price': '', 'gender': 'dames'}, {'title': 'American Tradition oversized T-shirt', 'original_price': '29.00 €', 'sale_price': '', 'gender': 'dames'}, {'title': 'Stretch T-shirt met logo voorkant', 'original_price': '35.00 €', 'sale_price': '', 'gender': 'dames'}, {'title': 'T-shirt met logo met stras voorkant', 'original_price': '45.00 €', 'sale_price': '', 'gender': 'dames'}, {'title': 'T-shirt met pailletten logo voorkant', 'original_price': '45.00 €', 'sale_price': '', 'gender': 'dames'}, {'title': 'Stretch t-shirt met driehoek logo strasstenen', 'original_price': '55.00 €', 'sale_price': '', 'gender': 'dames'}, {'title': 'Stretch T-shirt met driehoek logo', 'original_price': '50.00 €', 'sale_price': '', 'gender': 'dames'}, {'title': 'American Tradition oversized T-shirt', 'original_price': '29.00 €', 'sale_price': '', 'gender': 'dames'}, {'title': 'American Tradition oversized T-shirt', 'original_price': '29.00 €', 'sale_price': '', 'gender': 'dames'}, {'title': 'Strak T-shirt met lange mouwen met borduursel', 'original_price': '39.00 €', 'sale_price': '', 'gender': 'dames'}, {'title': 'Strak ribgebreid T-shirt met borduursel', 'original_price': '35.00 €', 'sale_price': '', 'gender': 'dames'}, {'title': 'T-shirt met print op de voorkant', 'original_price': '40.00 €', 'sale_price': '', 'gender': 'dames'}, {'title': 'Klassiek T-shirt met logo', 'original_price': '39.00 €', 'sale_price': '', 'gender': 'dames'}, {'title': 'Stretch T-shirt met bloemlogo', 'original_price': '45.00 €', 'sale_price': '', 'gender': 'dames'}, {'title': 'Strak T-shirt met logoprint', 'original_price': '35.00 €', 'sale_price': '', 'gender': 'dames'}, {'title': 'Stretch T-shirt met logo op de voorkant', 'original_price': '50.00 €', 'sale_price': '', 'gender': 'dames'}, {'title': 'Strak T-shirt met logoprint', 'original_price': '35.00 €', 'sale_price': '', 'gender': 'dames'}, {'title': 'T-shirt met print voorkant', 'original_price': '45.00 €', 'sale_price': '', 'gender': 'dames'}, {'title': 'Stretch T-shirt met bloemenlogo', 'original_price': '45.00 €', 'sale_price': '', 'gender': 'dames'}, {'title': 'T-shirt met all-over print', 'original_price': '50.00 €', 'sale_price': '', 'gender': 'dames'}, {'title': 'Stretch T-shirt met logo met stras op de voorkant', 'original_price': '45.00 €', 'sale_price': '', 'gender': 'dames'}, {'title': 'T-shirt logo strasstenen voorkant', 'original_price': '40.00 €', 'sale_price': '', 'gender': 'dames'}, {'title': 'Klassiek T-shirt met mini driehoek', 'original_price': '29.00 €', 'sale_price': '', 'gender': 'dames'}, {'title': 'Boxy Iconic T-shirt', 'original_price': '35.00 €', 'sale_price': '', 'gender': 'dames'}, {'title': 'T-shirt met print op de voorkant', 'original_price': '35.00 €', 'sale_price': '', 'gender': 'dames'}, {'title': 'Stretch t-shirt met klein driehoek logo', 'original_price': '30.00 €', 'sale_price': '', 'gender': 'dames'}, {'title': 'T-shirt strasstenen 4G-logo', 'original_price': '60.00 €', 'sale_price': '', 'gender': 'dames'}, {'title': 'Strak T-shirt met lange mouwen met borduursel', 'original_price': '39.00 €', 'sale_price': '', 'gender': 'dames'}, {'title': 'T-shirt met driehoeklogo', 'original_price': '40.00 €', 'sale_price': '', 'gender': 'dames'}, {'title': 'Stretch T-shirt met logo voorkant', 'original_price': '40.00 €', 'sale_price': '', 'gender': 'dames'}, {'title': 'T-shirt driehoek met logo met stras', 'original_price': '55.00 €', 'sale_price': '', 'gender': 'dames'}, {'title': 'Stretch T-shirt met bloemenlogo', 'original_price': '35.00 €', 'sale_price': '', 'gender': 'dames'}, {'title': 'Stretch T-shirt met bloemenlogo', 'original_price': '50.00 €', 'sale_price': '', 'gender': 'dames'}, {'title': 'T-shirt van ajour-kant', 'original_price': '65.00 €', 'sale_price': '', 'gender': 'dames'}, {'title': 'Klassiek T-shirt met mini driehoek', 'original_price': '29.00 €', 'sale_price': '', 'gender': 'dames'}, {'title': 'Strak American Tradition T-shirt', 'original_price': '35.00 €', 'sale_price': '', 'gender': 'dames'}, {'title': 'Boxy Iconic T-shirt', 'original_price': '35.00 €', 'sale_price': '', 'gender': 'dames'}, {'title': 'Strak T-shirt met logoprint', 'original_price': '35.00 €', 'sale_price': '', 'gender': 'dames'}, {'title': 'T-shirt driehoeklogo', 'original_price': '35.00 €', 'sale_price': '', 'gender': 'dames'}, {'title': 'T-shirt met print voorkant', 'original_price': '40.00 €', 'sale_price': '', 'gender': 'dames'}, {'title': 'T-shirt met print op de voorkant', 'original_price': '40.00 €', 'sale_price': '', 'gender': 'dames'}, {'title': 'Boxy T-shirt met logo', 'original_price': '39.00 €', 'sale_price': '', 'gender': 'dames'}, {'title': 'Stretch T-shirt met logo op de voorkant', 'original_price': '60.00 €', 'sale_price': '', 'gender': 'dames'}, {'title': 'Boxy T-shirt met mini driehoek', 'original_price': '29.00 €', 'sale_price': '', 'gender': 'dames'}, {'title': 'Driehoek logo T-shirt', 'original_price': '35.00 €', 'sale_price': '', 'gender': 'dames'}, {'title': 'Stretch t-shirt met logo all-over', 'original_price': '45.00 €', 'sale_price': '', 'gender': 'dames'}, {'title': 'Klassiek Signature-T-shirt', 'original_price': '35.00 €', 'sale_price': '', 'gender': 'dames'}, {'title': 'Stretch t-shirt met logo met stras voorkant', 'original_price': '45.00 €', 'sale_price': '', 'gender': 'dames'}, {'title': 'T-shirt met print voorkant', 'original_price': '55.00 €', 'sale_price': '', 'gender': 'dames'}, {'title': 'Stretch T-shirt met bloemenlogo', 'original_price': '45.00 €', 'sale_price': '', 'gender': 'dames'}, {'title': 'Stretch T-shirt met stras', 'original_price': '50.00 €', 'sale_price': '', 'gender': 'dames'}, {'title': 'Mini American Tradition T-shirt met v-hals', 'original_price': '35.00 €', 'sale_price': '', 'gender': 'dames'}, {'title': 'Mini American Tradition T-shirt met v-hals', 'original_price': '35.00 €', 'sale_price': '', 'gender': 'dames'}, {'title': 'Klassiek T-shirt met logo', 'original_price': '39.00 €', 'sale_price': '', 'gender': 'dames'}, {'title': 'Strak T-shirt met lange mouwen met borduursel', 'original_price': '39.00 €', 'sale_price': '', 'gender': 'dames'}, {'title': 'Stretch t-shirt met klein driehoek logo strasstenen', 'original_price': '40.00 €', 'sale_price': '', 'gender': 'dames'}, {'title': 'Stretch T-shirt met logo op de voorkant', 'original_price': '35.00 €', 'sale_price': '', 'gender': 'dames'}, {'title': 'T-shirt logo voorkant', 'original_price': '40.00 €', 'sale_price': '', 'gender': 'dames'}, {'title': 'T-shirt met strass-logo', 'original_price': '65.00 €', 'sale_price': '', 'gender': 'dames'}, {'title': 'Boxy Iconic T-shirt', 'original_price': '35.00 €', 'sale_price': '', 'gender': 'dames'}, {'title': 'Boxy T-shirt met mini driehoek', 'original_price': '29.00 €', 'sale_price': '', 'gender': 'dames'}, {'title': 'Strak T-shirt met logoprint', 'original_price': '35.00 €', 'sale_price': '', 'gender': 'dames'}, {'title': 'Klassiek T-shirt met mini driehoek', 'original_price': '29.00 €', 'sale_price': '', 'gender': 'dames'}, {'title': 'T-shirt met logo voorkant', 'original_price': '45.00 €', 'sale_price': '', 'gender': 'dames'}, {'title': 'Strak American Tradition T-shirt', 'original_price': '35.00 €', 'sale_price': '', 'gender': 'dames'}, {'title': 'Stretch t-shirt met logo met stras voorkant', 'original_price': '55.00 €', 'sale_price': '', 'gender': 'dames'}, {'title': 'Strak American Tradition T-shirt', 'original_price': '35.00 €', 'sale_price': '', 'gender': 'dames'}, {'title': 'Strak T-shirt met lange mouwen met borduursel', 'original_price': '39.00 €', 'sale_price': '', 'gender': 'dames'}, {'title': 'Strak T-shirt met logoprint', 'original_price': '35.00 €', 'sale_price': '', 'gender': 'dames'}, {'title': 'Klassiek T-shirt met logo', 'original_price': '39.00 €', 'sale_price': '', 'gender': 'dames'}, {'title': 'Strak mini American Tradition T-shirt', 'original_price': '35.00 €', 'sale_price': '', 'gender': 'dames'}, {'title': 'T-shirt met logo met stras voorkant', 'original_price': '35.00 €', 'sale_price': '', 'gender': 'dames'}, {'title': 'Strak T-shirt met lange mouwen met borduursel', 'original_price': '39.00 €', 'sale_price': '', 'gender': 'dames'}, {'title': 'Boxy T-shirt met logo', 'original_price': '39.00 €', 'sale_price': '', 'gender': 'dames'}, {'title': 'T-shirt met geborduurd logo', 'original_price': '55.00 €', 'sale_price': '', 'gender': 'dames'}, {'title': 'Strak American Tradition T-shirt', 'original_price': '35.00 €', 'sale_price': '', 'gender': 'dames'}, {'title': 'T-shirt met logo op de voorkant', 'original_price': '45.00 €', 'sale_price': '', 'gender': 'dames'}, {'title': 'Strak ribgebreid T-shirt met borduursel', 'original_price': '35.00 €', 'sale_price': '', 'gender': 'dames'}, {'title': 'T-shirt met pailletten logo voorkant', 'original_price': '50.00 €', 'sale_price': '', 'gender': 'dames'}, {'title': 'T-shirt driehoeklogo', 'original_price': '35.00 €', 'sale_price': '', 'gender': 'dames'}, {'title': 'Klassiek T-shirt met logo', 'original_price': '39.00 €', 'sale_price': '', 'gender': 'dames'}, {'title': 'Strak mini American Tradition T-shirt', 'original_price': '35.00 €', 'sale_price': '', 'gender': 'dames'}, {'title': 'Strak mini American Tradition T-shirt', 'original_price': '35.00 €', 'sale_price': '', 'gender': 'dames'}, {'title': 'T-shirt met logo op de voorkant', 'original_price': '55.00 €', 'sale_price': '', 'gender': 'dames'}, {'title': 'Boxy Iconic T-shirt', 'original_price': '35.00 €', 'sale_price': '', 'gender': 'dames'}, {'title': 'T-shirt met print op de achterkant', 'original_price': '45.00 €', 'sale_price': '', 'gender': 'dames'}, {'title': 'Stretch T-shirt met print voorkant', 'original_price': '45.00 €', 'sale_price': '', 'gender': 'dames'}, {'title': 'T-shirt met logo voor en achter', 'original_price': '35.00 €', 'sale_price': '', 'gender': 'dames'}, {'title': 'Stretch T-shirt met logo op de voorkant', 'original_price': '45.00 €', 'sale_price': '', 'gender': 'dames'}, {'title': 'T-shirt met print op de voorkant', 'original_price': '50.00 €', 'sale_price': '', 'gender': 'dames'}, {'title': 'Stretch T-shirt met driehoeklogo', 'original_price': '40.00 €', 'sale_price': '', 'gender': 'dames'}, {'title': 'Klassiek Signature-T-shirt', 'original_price': '35.00 €', 'sale_price': '', 'gender': 'dames'}, {'title': 'Marciano t-shirt met logo voorkant', 'original_price': '70.00 €', 'sale_price': '', 'gender': 'dames'}, {'title': 'Strak mini American Tradition T-shirt', 'original_price': '35.00 €', 'sale_price': '', 'gender': 'dames'}, {'title': 'T-shirt driehoeklogo', 'original_price': '35.00 €', 'sale_price': '', 'gender': 'dames'}, {'title': 'T-shirt met logo voorkant', 'original_price': '40.00 €', 'sale_price': '', 'gender': 'dames'}, {'title': 'Stretch T-shirt met print voorkant', 'original_price': '40.00 €', 'sale_price': '', 'gender': 'dames'}, {'title': 'Boxy T-shirt met logo', 'original_price': '39.00 €', 'sale_price': '', 'gender': 'dames'}, {'title': 'T-shirt met logo op de zijkant', 'original_price': '40.00 €', 'sale_price': '', 'gender': 'dames'}, {'title': 'T-shirt met print op de voorkant', 'original_price': '40.00 €', 'sale_price': '', 'gender': 'dames'}, {'title': 'Boxy T-shirt met logo', 'original_price': '39.00 €', 'sale_price': '', 'gender': 'dames'}, {'title': 'T-shirt driehoeklogo', 'original_price': '35.00 €', 'sale_price': '', 'gender': 'dames'}, {'title': 'T-shirt logo stras', 'original_price': '50.00 €', 'sale_price': '', 'gender': 'dames'}, {'title': 'T-shirt met V-hals', 'original_price': '30.00 €', 'sale_price': '', 'gender': 'dames'}, {'title': 'T-shirt driehoek logo strasstenen', 'original_price': '55.00 €', 'sale_price': '', 'gender': 'dames'}, {'title': 'T-shirt met strasstenen-logo voorkant', 'original_price': '35.00 €', 'sale_price': '', 'gender': 'dames'}, {'title': 'Stretch T-shirt met logo op de voorkant', 'original_price': '35.00 €', 'sale_price': '', 'gender': 'dames'}, {'title': 'Marciano t-shirt met strass-logo', 'original_price': '80.00 €', 'sale_price': '', 'gender': 'dames'}, {'title': 'T-shirt driehoeklogo', 'original_price': '35.00 €', 'sale_price': '', 'gender': 'dames'}, {'title': 'American Tradition oversized T-shirt', 'original_price': '29.00 €', 'sale_price': '', 'gender': 'dames'}, {'title': 'T-shirt met bloemenlogo', 'original_price': '40.00 €', 'sale_price': '', 'gender': 'dames'}, {'title': 'Klassiek T-shirt met logo', 'original_price': '39.00 €', 'sale_price': '', 'gender': 'dames'}, {'title': 'T-shirt met bloemlogo', 'original_price': '45.00 €', 'sale_price': '', 'gender': 'dames'}, {'title': 'T-shirt met logo voorkant', 'original_price': '35.00 €', 'sale_price': '', 'gender': 'dames'}, {'title': 'T-shirt met geborduurd logo', 'original_price': '40.00 €', 'sale_price': '', 'gender': 'dames'}, {'title': 'Stretch T-shirt met driehoeklogo met strass-steentjes', 'original_price': '40.00 €', 'sale_price': '', 'gender': 'dames'}, {'title': 'T-shirt met logo voorkant', 'original_price': '40.00 €', 'sale_price': '', 'gender': 'dames'}, {'title': 'T-shirt met logo voorkant', 'original_price': '40.00 €', 'sale_price': '', 'gender': 'dames'}, {'title': 'T-shirt met 4G-logo all-over', 'original_price': '55.00 €', 'sale_price': '', 'gender': 'dames'}, {'title': 'T-shirt logo voorkant', 'original_price': '35.00 €', 'sale_price': '', 'gender': 'dames'}, {'title': 'T-shirt met icon-logo', 'original_price': '50.00 €', 'sale_price': '', 'gender': 'dames'}, {'title': 'Driehoek logo T-shirt', 'original_price': '35.00 €', 'sale_price': '', 'gender': 'dames'}, {'title': 'T-shirt met kleine driehoek logopatch', 'original_price': '40.00 €', 'sale_price': '', 'gender': 'dames'}, {'title': 'T-shirt met logo voorkant', 'original_price': '30.00 €', 'sale_price': '', 'gender': 'dames'}, {'title': 'T-shirt met strasstenen-logo voorkant', 'original_price': '45.00 €', 'sale_price': '', 'gender': 'dames'}, {'title': 'T-shirt logo stras', 'original_price': '50.00 €', 'sale_price': '', 'gender': 'dames'}, {'title': 'Gestreept stretch-t-shirt', 'original_price': '45.00 €', 'sale_price': '', 'gender': 'dames'}, {'title': 'T-shirt met icon-logo', 'original_price': '50.00 €', 'sale_price': '', 'gender': 'dames'}, {'title': 'T-shirt klein driehoek logo', 'original_price': '30.00 €', 'sale_price': '', 'gender': 'dames'}, {'title': 'Verkort t-shirt met logo all-over', 'original_price': '40.00 €', 'sale_price': '', 'gender': 'dames'}, {'title': 'Front logo t-shirt', 'original_price': '35.00 €', 'sale_price': '', 'gender': 'dames'}, {'title': 'T-shirt met icon-logo', 'original_price': '50.00 €', 'sale_price': '', 'gender': 'dames'}, {'title': 'T-shirt logo driehoek', 'original_price': '35.00 €', 'sale_price': '', 'gender': 'dames'}, {'title': 'Front logo t-shirt', 'original_price': '45.00 €', 'sale_price': '', 'gender': 'dames'}, {'title': 'T-shirt logo voorkant', 'original_price': '35.00 €', 'sale_price': '', 'gender': 'dames'}, {'title': 'T-shirt met print op de voorkant', 'original_price': '50.00 €', 'sale_price': '', 'gender': 'dames'}, {'title': 'Stretch T-shirt met logo op de voorkant', 'original_price': '55.00 €', 'sale_price': '', 'gender': 'dames'}, {'title': 'Cropped T-shirt met all-over print', 'original_price': '60.00 €', 'sale_price': '', 'gender': 'dames'}, {'title': 'T-shirt met print op de voorkant', 'original_price': '45.00 €', 'sale_price': '', 'gender': 'dames'}, {'title': 'T-shirt met driehoeklogo', 'original_price': '45.00 €', 'sale_price': '', 'gender': 'dames'}, {'title': 'Cropped T-shirt met all-over print', 'original_price': '60.00 €', 'sale_price': '', 'gender': 'dames'}]\n"
     ]
    },
    {
     "ename": "KeyboardInterrupt",
     "evalue": "",
     "output_type": "error",
     "traceback": [
      "\u001b[0;31m---------------------------------------------------------------------------\u001b[0m",
      "\u001b[0;31mKeyboardInterrupt\u001b[0m                         Traceback (most recent call last)",
      "Cell \u001b[0;32mIn[9], line 9\u001b[0m\n\u001b[1;32m      7\u001b[0m \u001b[38;5;28;01mfor\u001b[39;00m clothing_gender_type \u001b[38;5;129;01min\u001b[39;00m clothing_gender_types:\n\u001b[1;32m      8\u001b[0m     scraper \u001b[38;5;241m=\u001b[39m GuessScraper(BASE_URL\u001b[38;5;241m=\u001b[39mBASE_URL, clothing_gender_type\u001b[38;5;241m=\u001b[39mclothing_gender_type)\n\u001b[0;32m----> 9\u001b[0m     scraped_data \u001b[38;5;241m=\u001b[39m \u001b[43mscraper\u001b[49m\u001b[38;5;241;43m.\u001b[39;49m\u001b[43mscrape\u001b[49m\u001b[43m(\u001b[49m\u001b[43mCLOTHING_BASE_URLS\u001b[49m\u001b[43m)\u001b[49m\n\u001b[1;32m     10\u001b[0m     \u001b[38;5;28mprint\u001b[39m(scraped_data)\n",
      "Cell \u001b[0;32mIn[8], line 165\u001b[0m, in \u001b[0;36mGuessScraper.scrape\u001b[0;34m(self, clothing_base_urls)\u001b[0m\n\u001b[1;32m    161\u001b[0m \u001b[38;5;28mself\u001b[39m\u001b[38;5;241m.\u001b[39mdriver \u001b[38;5;241m=\u001b[39m \u001b[38;5;28mself\u001b[39m\u001b[38;5;241m.\u001b[39mdriver_helper\u001b[38;5;241m.\u001b[39minitialize_driver()\n\u001b[1;32m    162\u001b[0m GenericScraperHelper\u001b[38;5;241m.\u001b[39mset_driver_for_page_url(\n\u001b[1;32m    163\u001b[0m     \u001b[38;5;28mself\u001b[39m\u001b[38;5;241m.\u001b[39mdriver, clothing_type_url\n\u001b[1;32m    164\u001b[0m )\n\u001b[0;32m--> 165\u001b[0m \u001b[43mGenericScraperHelper\u001b[49m\u001b[38;5;241;43m.\u001b[39;49m\u001b[43mload_all_products\u001b[49m\u001b[43m(\u001b[49m\u001b[38;5;28;43mself\u001b[39;49m\u001b[38;5;241;43m.\u001b[39;49m\u001b[43mdriver\u001b[49m\u001b[43m)\u001b[49m\n\u001b[1;32m    166\u001b[0m products \u001b[38;5;241m=\u001b[39m \u001b[38;5;28mself\u001b[39m\u001b[38;5;241m.\u001b[39mextract_product_info(\n\u001b[1;32m    167\u001b[0m     str_gender\u001b[38;5;241m=\u001b[39m\u001b[38;5;28mself\u001b[39m\u001b[38;5;241m.\u001b[39mclothing_gender_type\n\u001b[1;32m    168\u001b[0m )\n\u001b[1;32m    169\u001b[0m \u001b[38;5;28mprint\u001b[39m(products)\n",
      "Cell \u001b[0;32mIn[7], line 26\u001b[0m, in \u001b[0;36mGenericScraperHelper.load_all_products\u001b[0;34m(driver)\u001b[0m\n\u001b[1;32m     24\u001b[0m \u001b[38;5;28;01mwhile\u001b[39;00m \u001b[38;5;28;01mTrue\u001b[39;00m:\n\u001b[1;32m     25\u001b[0m     driver\u001b[38;5;241m.\u001b[39mexecute_script(\u001b[38;5;124m\"\u001b[39m\u001b[38;5;124mwindow.scrollTo(0, document.body.scrollHeight);\u001b[39m\u001b[38;5;124m\"\u001b[39m)\n\u001b[0;32m---> 26\u001b[0m     \u001b[43mtime\u001b[49m\u001b[38;5;241;43m.\u001b[39;49m\u001b[43msleep\u001b[49m\u001b[43m(\u001b[49m\u001b[38;5;241;43m3\u001b[39;49m\u001b[43m)\u001b[49m\n\u001b[1;32m     27\u001b[0m     new_height \u001b[38;5;241m=\u001b[39m driver\u001b[38;5;241m.\u001b[39mexecute_script(\u001b[38;5;124m\"\u001b[39m\u001b[38;5;124mreturn document.body.scrollHeight\u001b[39m\u001b[38;5;124m\"\u001b[39m)\n\u001b[1;32m     28\u001b[0m     \u001b[38;5;28;01mif\u001b[39;00m new_height \u001b[38;5;241m==\u001b[39m last_height:\n",
      "\u001b[0;31mKeyboardInterrupt\u001b[0m: "
     ]
    }
   ],
   "source": [
    "BASE_URL = \"https://www.guess.eu/nl-be/guess\"\n",
    "CLOTHING_URL = \"?prefn1=guess_visibleInCountries&prefv1=BE%7CALL&psubcat=true\"\n",
    "SALE_URL = \"?prefn1=guess_visibleInCountries&prefv1=BE%7CALL&prefn2=isSale&prefv2=BE\"\n",
    "CLOTHING_BASE_URLS = [CLOTHING_URL, SALE_URL]\n",
    "clothing_gender_types = [\"dames\", \" heren, \"]\n",
    "\n",
    "for clothing_gender_type in clothing_gender_types:\n",
    "    scraper = GuessScraper(BASE_URL=BASE_URL, clothing_gender_type=clothing_gender_type)\n",
    "    scraped_data = scraper.scrape(CLOTHING_BASE_URLS)\n",
    "    print(scraped_data)"
   ]
  },
  {
   "cell_type": "markdown",
   "metadata": {},
   "source": []
  },
  {
   "cell_type": "markdown",
   "metadata": {},
   "source": [
    "Step 3: Extract all titles in the category\n"
   ]
  },
  {
   "cell_type": "markdown",
   "metadata": {},
   "source": []
  },
  {
   "cell_type": "markdown",
   "metadata": {},
   "source": [
    "Initialize Webdriver\n"
   ]
  },
  {
   "cell_type": "code",
   "execution_count": null,
   "metadata": {},
   "outputs": [],
   "source": [
    "service = ChromeService(ChromeDriverManager().install())\n",
    "driver = webdriver.Chrome(service=service)"
   ]
  },
  {
   "cell_type": "code",
   "execution_count": null,
   "metadata": {},
   "outputs": [],
   "source": [
    "BASE_URL = \"https://www.guess.eu/nl-be/guess\"\n",
    "\n",
    "CLOTHING_URL = \"?prefn1=guess_visibleInCountries&prefv1=BE%7CALL&psubcat=true\"\n",
    "SALE_URL = \"?prefn1=guess_visibleInCountries&prefv1=BE%7CALL&prefn2=isSale&prefv2=BE\""
   ]
  },
  {
   "cell_type": "markdown",
   "metadata": {},
   "source": [
    "Ladies\n"
   ]
  },
  {
   "cell_type": "code",
   "execution_count": null,
   "metadata": {},
   "outputs": [],
   "source": [
    "def set_driver_for_page_url(relative_category_url, driver):\n",
    "    driver.get(relative_category_url)\n",
    "    time.sleep(5)"
   ]
  },
  {
   "cell_type": "code",
   "execution_count": null,
   "metadata": {},
   "outputs": [],
   "source": [
    "# Women, Men, Children\n",
    "def construct_group_category_url(base_url, target_group, clothing_url):\n",
    "    return f\"{base_url}/{target_group}/kleding/{clothing_url}\""
   ]
  },
  {
   "cell_type": "code",
   "execution_count": null,
   "metadata": {},
   "outputs": [],
   "source": [
    "def construct_clothing_type_category_url(group_category_url, clothing_type):\n",
    "    modified_url = re.sub(r\"(kleding)\", f\"\\\\1/{clothing_type}\", group_category_url)\n",
    "    return modified_url"
   ]
  },
  {
   "cell_type": "code",
   "execution_count": null,
   "metadata": {},
   "outputs": [
    {
     "name": "stdout",
     "output_type": "stream",
     "text": [
      "https://www.guess.eu/nl-be/guess/dames/kleding/?prefn1=guess_visibleInCountries&prefv1=BE%7CALL&psubcat=true\n"
     ]
    }
   ],
   "source": [
    "url = construct_group_category_url(BASE_URL, \"dames\", CLOTHING_URL)\n",
    "print(url)"
   ]
  },
  {
   "cell_type": "code",
   "execution_count": null,
   "metadata": {},
   "outputs": [
    {
     "data": {
      "text/plain": [
       "'https://www.guess.eu/nl-be/guess/dames/kleding/tshirts/?prefn1=guess_visibleInCountries&prefv1=BE%7CALL&psubcat=true'"
      ]
     },
     "execution_count": 13,
     "metadata": {},
     "output_type": "execute_result"
    }
   ],
   "source": [
    "construct_clothing_type_category_url(url, \"tshirts\")"
   ]
  },
  {
   "cell_type": "code",
   "execution_count": null,
   "metadata": {},
   "outputs": [],
   "source": [
    "set_driver_for_page_url(url, driver)"
   ]
  },
  {
   "cell_type": "code",
   "execution_count": null,
   "metadata": {},
   "outputs": [],
   "source": [
    "def click_specific_button(driver, button_text):\n",
    "    attempts = 3\n",
    "    for attempt in range(attempts):\n",
    "        try:\n",
    "            button = WebDriverWait(driver, 10).until(\n",
    "                EC.presence_of_element_located(\n",
    "                    (\n",
    "                        By.XPATH,\n",
    "                        f\"//div[contains(@class, 'refinements__item-button') and .//span[text()='{button_text}']]\",\n",
    "                    )\n",
    "                )\n",
    "            )\n",
    "            driver.execute_script(\"arguments[0].scrollIntoView();\", button)\n",
    "            clickable_button = WebDriverWait(driver, 10).until(\n",
    "                EC.element_to_be_clickable(\n",
    "                    (\n",
    "                        By.XPATH,\n",
    "                        f\"//div[contains(@class, 'refinements__item-button') and .//span[text()='{button_text}']]\",\n",
    "                    )\n",
    "                )\n",
    "            )\n",
    "            driver.execute_script(\"arguments[0].click();\", clickable_button)\n",
    "            return\n",
    "        except WebDriverException as e:\n",
    "            print(f\"Attempt {attempt + 1} failed: {e}\")\n",
    "            time.sleep(5)\n",
    "    raise Exception(\"Failed to click the dropdown button after several attempts\")"
   ]
  },
  {
   "cell_type": "code",
   "execution_count": null,
   "metadata": {},
   "outputs": [],
   "source": [
    "def extract_titles(driver):\n",
    "    titles = []\n",
    "    try:\n",
    "        # Locate the dropdown list\n",
    "        dropdown_list = WebDriverWait(driver, 10).until(\n",
    "            EC.presence_of_element_located(\n",
    "                (By.CSS_SELECTOR, \"ul.refinements__attribute-wrapper\")\n",
    "            )\n",
    "        )\n",
    "        # Extract all titles\n",
    "        items = dropdown_list.find_elements(\n",
    "            By.CSS_SELECTOR, \"li.refinements__attribute\"\n",
    "        )\n",
    "        for item in items:\n",
    "            title = item.get_attribute(\"title\")\n",
    "            titles.append(title)\n",
    "    except Exception as e:\n",
    "        print(f\"Exception occurred while extracting titles: {e}\")\n",
    "    return titles"
   ]
  },
  {
   "cell_type": "code",
   "execution_count": null,
   "metadata": {},
   "outputs": [],
   "source": [
    "click_specific_button(driver, \"Op categorie\")\n",
    "time.sleep(2)"
   ]
  },
  {
   "cell_type": "code",
   "execution_count": null,
   "metadata": {},
   "outputs": [],
   "source": [
    "CATEGORY_DROPDOWN_CSS_LIST = (\n",
    "    \"div.mb-lg-0.filters-container__item.refinements__item--category \"\n",
    "    \"div.js-collapse.refinements__wrapper.collapse.show div.filters-content \"\n",
    "    \"ul.refinements__attribute-wrapper.values.content.pl-0.m-lg-0 \"\n",
    "    \"li.refinements__attribute\"\n",
    ")"
   ]
  },
  {
   "cell_type": "code",
   "execution_count": null,
   "metadata": {},
   "outputs": [],
   "source": [
    "def extract_titles(driver, css_dropdown_list):\n",
    "    titles = []\n",
    "    try:\n",
    "        # Locate the list items within the dropdown\n",
    "        list_items = driver.find_elements(By.CSS_SELECTOR, css_dropdown_list)\n",
    "        for item in list_items:\n",
    "            title = item.get_attribute(\"title\")\n",
    "            if title:\n",
    "                titles.append(title)\n",
    "    except Exception as e:\n",
    "        print(f\"Exception occurred while extracting titles: {e}\")\n",
    "    return titles\n",
    "\n",
    "\n",
    "titles = extract_titles(driver, CATEGORY_DROPDOWN_CSS_LIST)"
   ]
  },
  {
   "cell_type": "code",
   "execution_count": null,
   "metadata": {},
   "outputs": [],
   "source": [
    "def convert_to_dash_format(phrase):\n",
    "    cleaned_phrase = phrase.lower().strip()\n",
    "    dash_format = cleaned_phrase.replace(\" \", \"-\").lower()\n",
    "    return dash_format"
   ]
  },
  {
   "cell_type": "code",
   "execution_count": null,
   "metadata": {},
   "outputs": [
    {
     "data": {
      "text/plain": [
       "'jurken-en-jumpsuits'"
      ]
     },
     "execution_count": 21,
     "metadata": {},
     "output_type": "execute_result"
    }
   ],
   "source": [
    "convert_to_dash_format(\"Jurken en Jumpsuits\")"
   ]
  },
  {
   "cell_type": "code",
   "execution_count": null,
   "metadata": {},
   "outputs": [
    {
     "data": {
      "text/plain": [
       "['Jurken en Jumpsuits',\n",
       " 'T-shirts',\n",
       " 'Tops en Overhemden',\n",
       " 'Gebreide Kleding',\n",
       " 'Sweatshirts',\n",
       " 'Jasjes',\n",
       " 'Broeken',\n",
       " 'Rokken en Shorts',\n",
       " 'Pakken',\n",
       " 'Strandkleding',\n",
       " 'Sportkleding']"
      ]
     },
     "execution_count": 22,
     "metadata": {},
     "output_type": "execute_result"
    }
   ],
   "source": [
    "titles"
   ]
  },
  {
   "cell_type": "code",
   "execution_count": null,
   "metadata": {},
   "outputs": [
    {
     "name": "stdout",
     "output_type": "stream",
     "text": [
      "https://www.guess.eu/nl-be/guess/dames/kleding/jurken-en-jumpsuits/?prefn1=guess_visibleInCountries&prefv1=BE%7CALL&psubcat=true\n",
      "https://www.guess.eu/nl-be/guess/dames/kleding/t-shirts/?prefn1=guess_visibleInCountries&prefv1=BE%7CALL&psubcat=true\n",
      "https://www.guess.eu/nl-be/guess/dames/kleding/tops-en-overhemden/?prefn1=guess_visibleInCountries&prefv1=BE%7CALL&psubcat=true\n",
      "https://www.guess.eu/nl-be/guess/dames/kleding/gebreide-kleding/?prefn1=guess_visibleInCountries&prefv1=BE%7CALL&psubcat=true\n",
      "https://www.guess.eu/nl-be/guess/dames/kleding/sweatshirts/?prefn1=guess_visibleInCountries&prefv1=BE%7CALL&psubcat=true\n",
      "https://www.guess.eu/nl-be/guess/dames/kleding/jasjes/?prefn1=guess_visibleInCountries&prefv1=BE%7CALL&psubcat=true\n",
      "https://www.guess.eu/nl-be/guess/dames/kleding/broeken/?prefn1=guess_visibleInCountries&prefv1=BE%7CALL&psubcat=true\n",
      "https://www.guess.eu/nl-be/guess/dames/kleding/rokken-en-shorts/?prefn1=guess_visibleInCountries&prefv1=BE%7CALL&psubcat=true\n",
      "https://www.guess.eu/nl-be/guess/dames/kleding/pakken/?prefn1=guess_visibleInCountries&prefv1=BE%7CALL&psubcat=true\n",
      "https://www.guess.eu/nl-be/guess/dames/kleding/strandkleding/?prefn1=guess_visibleInCountries&prefv1=BE%7CALL&psubcat=true\n",
      "https://www.guess.eu/nl-be/guess/dames/kleding/sportkleding/?prefn1=guess_visibleInCountries&prefv1=BE%7CALL&psubcat=true\n"
     ]
    }
   ],
   "source": [
    "for title in titles:\n",
    "    title = convert_to_dash_format(title)\n",
    "    print(construct_clothing_type_category_url(url, title))"
   ]
  },
  {
   "cell_type": "markdown",
   "metadata": {},
   "source": [
    "Extact using Beautiful soup per page; implement continuous scrolling\n"
   ]
  },
  {
   "cell_type": "code",
   "execution_count": null,
   "metadata": {},
   "outputs": [],
   "source": [
    "# Jurken en jumpsuits\n",
    "service = ChromeService(ChromeDriverManager().install())\n",
    "driver = webdriver.Chrome(service=service)\n",
    "url = \"https://www.guess.eu/nl-be/guess/dames/kleding/jurken-en-jumpsuits/?prefn1=guess_visibleInCountries&prefv1=BE%7CALL&psubcat=true\"\n",
    "set_driver_for_page_url(url, driver=driver)"
   ]
  },
  {
   "cell_type": "code",
   "execution_count": null,
   "metadata": {},
   "outputs": [],
   "source": [
    "# scroll the page\n",
    "def load_all_products(driver):\n",
    "    last_height = driver.execute_script(\"return document.body.scrollHeight\")\n",
    "    while True:\n",
    "        driver.execute_script(\"window.scrollTo(0, document.body.scrollHeight);\")\n",
    "        time.sleep(3)\n",
    "        new_height = driver.execute_script(\"return document.body.scrollHeight\")\n",
    "        if new_height == last_height:\n",
    "            break\n",
    "        last_height = new_height"
   ]
  },
  {
   "cell_type": "code",
   "execution_count": null,
   "metadata": {},
   "outputs": [],
   "source": [
    "load_all_products(driver)"
   ]
  },
  {
   "cell_type": "code",
   "execution_count": null,
   "metadata": {},
   "outputs": [],
   "source": [
    "# soup = BeautifulSoup(driver.page_source, 'html.parser')"
   ]
  },
  {
   "cell_type": "code",
   "execution_count": null,
   "metadata": {},
   "outputs": [],
   "source": [
    "def extract_product_info(driver, str_gender):\n",
    "    soup = BeautifulSoup(driver.page_source, \"html.parser\")\n",
    "    products = []\n",
    "    try:\n",
    "        description_divs = soup.select(\"div.small-description\")\n",
    "        for grid in description_divs:\n",
    "            product_divs = grid.select(\"div.pdp-link.product-tile__pdp-link\")\n",
    "            for div in product_divs:\n",
    "                title_tag = div.find(\"a\", class_=\"link product-tile__link js-tile-link\")\n",
    "                price_tag = div.find_next(\"span\", class_=\"value price__value\")\n",
    "                if title_tag and price_tag:\n",
    "                    product_info = {\n",
    "                        \"title\": title_tag.get_text(strip=True),\n",
    "                        \"price\": price_tag.get_text(strip=True),\n",
    "                        \"gender\": str_gender,\n",
    "                    }\n",
    "                    products.append(product_info)\n",
    "    except Exception as e:\n",
    "        print(f\"Exception occurred while extracting product information: {e}\")\n",
    "    return products"
   ]
  },
  {
   "cell_type": "code",
   "execution_count": null,
   "metadata": {},
   "outputs": [],
   "source": [
    "products = extract_product_info(driver, \"dames\")"
   ]
  },
  {
   "cell_type": "markdown",
   "metadata": {},
   "source": [
    "Discounts\n"
   ]
  },
  {
   "cell_type": "code",
   "execution_count": null,
   "metadata": {},
   "outputs": [],
   "source": [
    "# Site for the sales\n",
    "# https://www.guess.eu/nl-be/guess/dames/kleding?prefn1=guess_visibleInCountries&prefv1=BE%7CALL&prefn2=isSale&prefv2=BE\n",
    "# https://www.guess.eu/nl-be/guess/heren/kleding/?prefn1=guess_visibleInCountries&prefv1=BE%7CALL&psubcat=true"
   ]
  },
  {
   "cell_type": "code",
   "execution_count": null,
   "metadata": {},
   "outputs": [
    {
     "name": "stdout",
     "output_type": "stream",
     "text": [
      "https://www.guess.eu/nl-be/guess/dames/kleding/?prefn1=guess_visibleInCountries&prefv1=BE%7CALL&psubcat=true\n"
     ]
    }
   ],
   "source": [
    "url = construct_group_category_url(BASE_URL, \"dames\", CLOTHING_URL)\n",
    "print(url)"
   ]
  },
  {
   "cell_type": "code",
   "execution_count": null,
   "metadata": {},
   "outputs": [
    {
     "name": "stdout",
     "output_type": "stream",
     "text": [
      "https://www.guess.eu/nl-be/guess/dames/kleding/?prefn1=guess_visibleInCountries&prefv1=BE%7CALL&psubcat=true&prefn2=isSale&prefv2=BE\n"
     ]
    }
   ],
   "source": [
    "from urllib.parse import urlencode, urlparse, urlunparse, parse_qs\n",
    "\n",
    "\n",
    "def construct_sales_url(base_url, params):\n",
    "    url_parts = list(urlparse(base_url))\n",
    "    query = parse_qs(url_parts[4])\n",
    "    query.update(params)\n",
    "    url_parts[4] = urlencode(query, doseq=True)\n",
    "    return urlunparse(url_parts)\n",
    "\n",
    "\n",
    "params = {\"prefn2\": \"isSale\", \"prefv2\": \"BE\"}\n",
    "\n",
    "sales_url = construct_sales_url(url, params)\n",
    "print(sales_url)"
   ]
  },
  {
   "cell_type": "code",
   "execution_count": null,
   "metadata": {},
   "outputs": [],
   "source": [
    "load_all_products(driver)"
   ]
  },
  {
   "cell_type": "code",
   "execution_count": null,
   "metadata": {},
   "outputs": [],
   "source": [
    "def generate_clothing_urls(base_url, titles):\n",
    "    \"\"\"Generates a list of URLs for each clothing type in titles.\"\"\"\n",
    "    urls = []\n",
    "    for title in titles:\n",
    "        dash_title = convert_to_dash_format(title)\n",
    "        clothing_url = construct_clothing_type_category_url(base_url, dash_title)\n",
    "        urls.append(clothing_url)\n",
    "    return urls"
   ]
  },
  {
   "cell_type": "code",
   "execution_count": null,
   "metadata": {},
   "outputs": [],
   "source": [
    "sales_url = \"https://www.guess.eu/nl-be/guess/dames/kleding/jasjes?prefn1=guess_visibleInCountries&prefn2=isSale&prefv1=BE%7CALL&prefv2=BE&psubcat=true\"\n",
    "from bs4 import BeautifulSoup\n",
    "\n",
    "\n",
    "from bs4 import BeautifulSoup\n",
    "\n",
    "\n",
    "def get_soup(driver):\n",
    "    return BeautifulSoup(driver.page_source, \"html.parser\")\n",
    "\n",
    "\n",
    "def extract_price_info(price_container):\n",
    "    original_price_tag = price_container.find(\"span\", class_=\"price__strike-through\")\n",
    "    sale_price_tag = price_container.find(\"span\", class_=\"value price__value--sale\")\n",
    "\n",
    "    original_price = (\n",
    "        original_price_tag.get_text(strip=True) if original_price_tag else \"\"\n",
    "    )\n",
    "    sale_price = sale_price_tag.get_text(strip=True) if sale_price_tag else \"\"\n",
    "\n",
    "    return original_price, sale_price\n",
    "\n",
    "\n",
    "def extract_title_info(product_div):\n",
    "    title_tag = product_div.find(\"a\", class_=\"link product-tile__link js-tile-link\")\n",
    "    return title_tag.get_text(strip=True) if title_tag else \"\"\n",
    "\n",
    "\n",
    "def extract_product_info(driver, str_gender):\n",
    "    soup = get_soup(driver)\n",
    "    products = []\n",
    "    try:\n",
    "        description_divs = soup.select(\"div.small-description\")\n",
    "        for grid in description_divs:\n",
    "            product_divs = grid.select(\"div.pdp-link.product-tile__pdp-link\")\n",
    "            for div in product_divs:\n",
    "                title = extract_title_info(div)\n",
    "                price_container = div.find_next(\"div\", class_=\"product__price\")\n",
    "\n",
    "                if price_container:\n",
    "                    original_price, sale_price = extract_price_info(price_container)\n",
    "                    product_info = {\n",
    "                        \"title\": title,\n",
    "                        \"original_price\": original_price,\n",
    "                        \"sale_price\": sale_price,\n",
    "                        \"gender\": str_gender,\n",
    "                    }\n",
    "                    products.append(product_info)\n",
    "    except Exception as e:\n",
    "        print(f\"Exception occurred while extracting product information: {e}\")\n",
    "    return products"
   ]
  },
  {
   "cell_type": "code",
   "execution_count": null,
   "metadata": {},
   "outputs": [],
   "source": [
    "# use the constructed URL to navigate to the driver:\n",
    "# Jurken en jumpsuits\n",
    "service = ChromeService(ChromeDriverManager().install())\n",
    "driver = webdriver.Chrome(service=service)\n",
    "set_driver_for_page_url(sales_url, driver=driver)\n",
    "load_all_products(driver)"
   ]
  },
  {
   "cell_type": "code",
   "execution_count": null,
   "metadata": {},
   "outputs": [],
   "source": [
    "sales = extract_product_info(driver, \"dames\")"
   ]
  },
  {
   "cell_type": "code",
   "execution_count": null,
   "metadata": {},
   "outputs": [
    {
     "data": {
      "text/plain": [
       "[{'title': 'Imitatieleren jas',\n",
       "  'original_price': '180.00 €',\n",
       "  'sale_price': '',\n",
       "  'gender': 'dames'}]"
      ]
     },
     "execution_count": 38,
     "metadata": {},
     "output_type": "execute_result"
    }
   ],
   "source": [
    "sales"
   ]
  },
  {
   "cell_type": "markdown",
   "metadata": {},
   "source": [
    "Creation for a class\n"
   ]
  }
 ],
 "metadata": {
  "kernelspec": {
   "display_name": "venv",
   "language": "python",
   "name": "python3"
  },
  "language_info": {
   "codemirror_mode": {
    "name": "ipython",
    "version": 3
   },
   "file_extension": ".py",
   "mimetype": "text/x-python",
   "name": "python",
   "nbconvert_exporter": "python",
   "pygments_lexer": "ipython3",
   "version": "3.12.0"
  }
 },
 "nbformat": 4,
 "nbformat_minor": 2
}
